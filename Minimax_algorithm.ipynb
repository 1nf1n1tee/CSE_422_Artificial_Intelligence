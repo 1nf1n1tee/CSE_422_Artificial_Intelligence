{
  "nbformat": 4,
  "nbformat_minor": 0,
  "metadata": {
    "colab": {
      "provenance": [],
      "authorship_tag": "ABX9TyMcLBJfsTDgW/FDay9Iz+ir",
      "include_colab_link": true
    },
    "kernelspec": {
      "name": "python3",
      "display_name": "Python 3"
    },
    "language_info": {
      "name": "python"
    }
  },
  "cells": [
    {
      "cell_type": "markdown",
      "metadata": {
        "id": "view-in-github",
        "colab_type": "text"
      },
      "source": [
        "<a href=\"https://colab.research.google.com/github/1nf1n1tee/CSE_422_Artificial_Intelligence/blob/main/Minimax_algorithm.ipynb\" target=\"_parent\"><img src=\"https://colab.research.google.com/assets/colab-badge.svg\" alt=\"Open In Colab\"/></a>"
      ]
    },
    {
      "cell_type": "code",
      "source": [
        "import random\n",
        "\n",
        "arr = [random.randint(0,100) for i in range(4)]\n",
        "print(arr)"
      ],
      "metadata": {
        "colab": {
          "base_uri": "https://localhost:8080/"
        },
        "id": "XRh_sUEBR_ex",
        "outputId": "a8ae4484-1a8b-40a2-9baa-074553aa529e"
      },
      "execution_count": 42,
      "outputs": [
        {
          "output_type": "stream",
          "name": "stdout",
          "text": [
            "[12, 100, 22, 79]\n"
          ]
        }
      ]
    },
    {
      "cell_type": "code",
      "source": [
        "def min_max(arr,round=len(arr)//2+1,input=1,i=0,alpha=float(\"inf\"),beta=-float(\"inf\")):\n",
        "  if input == 1:\n",
        "    if len(arr)==1:\n",
        "      return arr\n",
        "\n",
        "    elif round%2!=0:\n",
        "      l = arr[:len(arr)//2]\n",
        "      r = arr[len(arr)//2:]\n",
        "      l = min_max(l,round-1)\n",
        "      r = min_max(r,round-1)\n",
        "      return max(l,r)\n",
        "\n",
        "    else:\n",
        "      l = arr[:len(arr)//2]\n",
        "      r = arr[len(arr)//2:]\n",
        "      l = min_max(l,round-1)\n",
        "      r = min_max(r,round-1)\n",
        "      return min(l,r)\n",
        "\n",
        "  else:\n",
        "    if len(arr)==1:\n",
        "      return arr\n",
        "\n",
        "    elif round%2!=0:\n",
        "      l = arr[:len(arr)//2]\n",
        "      r = arr[len(arr)//2:]\n",
        "      l = min_max(l,round-1,0)\n",
        "      r = min_max(r,round-1,0)\n",
        "      return min(l,r)\n",
        "\n",
        "    else:\n",
        "      l = arr[:len(arr)//2]\n",
        "      r = arr[len(arr)//2:]\n",
        "      l = min_max(l,round-1,0)\n",
        "      r = min_max(r,round-1,0)\n",
        "      return max(l,r)\n",
        "\n",
        "print(min_max(arr,input=0))"
      ],
      "metadata": {
        "colab": {
          "base_uri": "https://localhost:8080/"
        },
        "id": "inBmxuoqMYmW",
        "outputId": "45d5961b-0914-4b40-cf2b-15527003502a"
      },
      "execution_count": 46,
      "outputs": [
        {
          "output_type": "stream",
          "name": "stdout",
          "text": [
            "[79]\n"
          ]
        }
      ]
    }
  ]
}