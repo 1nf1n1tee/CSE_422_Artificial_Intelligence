{
  "nbformat": 4,
  "nbformat_minor": 0,
  "metadata": {
    "colab": {
      "provenance": []
    },
    "kernelspec": {
      "name": "python3",
      "display_name": "Python 3"
    },
    "language_info": {
      "name": "python"
    }
  },
  "cells": [
    {
      "cell_type": "code",
      "source": [
        "import random\n",
        "\n",
        "\n",
        "def population(n=4):\n",
        "  pop = [[random.randint(1,99) for i in range(3)] for i in range(n)]\n",
        "  return pop\n",
        "def simulate(pop,day_arr,capital=1000):\n",
        "\n",
        "  for i in day_arr:\n",
        "    investment = capital*pop[2]/100\n",
        "    money = capital-investment\n",
        "\n",
        "    if i<0:\n",
        "      if pop[0]<(-1)*i:\n",
        "        investment-=investment*(pop[0]/100)\n",
        "      else:\n",
        "        investment+=investment*(i/100)\n",
        "    else:\n",
        "      if pop[1]<i:\n",
        "        investment+=investment*(pop[1]/100)\n",
        "      else:\n",
        "        investment+=investment*(i/100)\n",
        "\n",
        "    capital = investment+money\n",
        "\n",
        "  return capital\n",
        "\n",
        "def fitness(cap_f,cap_i=1000):\n",
        "  return (cap_f-cap_i)\n",
        "\n",
        "def cross_over(p1,p2):\n",
        "  i = random.randint(0,2)\n",
        "  child1 = p1[:i]+p2[i:]\n",
        "  child2 = p2[:i]+p1[i:]\n",
        "  return child1,child2\n",
        "def mutation(child):\n",
        "  i = random.randint(0,2)\n",
        "  child[i] = random.randint(1,99)\n",
        "  return child\n",
        "\n",
        "def gen_algo(pop_size=4):\n",
        "  res = []\n",
        "  max = 0\n",
        "  pop = population(pop_size)\n",
        "  p1 = random.randint(0,pop_size-1)\n",
        "  p2 = random.randint(0,pop_size-1)\n",
        "\n",
        "  for i in range(1000):\n",
        "    child1,child2 = cross_over(pop[p1],pop[p2])\n",
        "\n",
        "    if random.randint(0,100)<50:\n",
        "      child1 = mutation(child1)\n",
        "    else:\n",
        "      child2 = mutation(child2)\n",
        "    pop[p1] = child1\n",
        "    pop[p2] = child2\n",
        "    for i in range(pop_size):\n",
        "      if fitness(simulate(pop[i],arr))>max:\n",
        "        max = simulate(pop[i],arr)\n",
        "        res = pop[i]\n",
        "\n",
        "  return res,max\n",
        "\n",
        "arr=[-1.2,3.4,-0.8,2.1,-2.5,1.7,-0.3,5.8,-1.1,3.5]\n",
        "population()\n",
        "ans,profit = gen_algo()\n",
        "print(f\"Best strategy is Stop-loss:{ans[0]},take profit:{ans[1]},trade size:{ans[2]}\")\n",
        "print(f\"Final will be {profit}\")"
      ],
      "metadata": {
        "colab": {
          "base_uri": "https://localhost:8080/"
        },
        "id": "pXZaJX1ARtVb",
        "outputId": "49da7773-6b8c-422d-8f17-c0ed79c8c3d0"
      },
      "execution_count": 76,
      "outputs": [
        {
          "output_type": "stream",
          "name": "stdout",
          "text": [
            "Best strategy is Stop-loss:49,take profit:89,trade size:98\n",
            "Final will be 1105.602445232187\n"
          ]
        }
      ]
    },
    {
      "cell_type": "code",
      "source": [],
      "metadata": {
        "id": "KCED0Ay9ZCy1"
      },
      "execution_count": 67,
      "outputs": []
    }
  ]
}